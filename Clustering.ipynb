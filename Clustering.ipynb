{
 "cells": [
  {
   "cell_type": "code",
   "execution_count": 1,
   "id": "52d63981",
   "metadata": {},
   "outputs": [],
   "source": [
    "# CIS 569 Project 2 Clustering code\n",
    "# Ben Pfeffer, Andrew Anctil, Rui Zhou\n",
    "\n",
    "\n",
    "# Import required libraries\n",
    "import os\n",
    "import glob\n",
    "import json\n",
    "\n",
    "# Initialize data storage\n",
    "names = []\n",
    "texts = []\n",
    "\n",
    "# Iterate through files, if not correct file (.txt extension) then skip, otherwise add to correct location in dictionary\n",
    "for infile in glob.glob(os.path.join(\"./dataset\", '*')):\n",
    "    if(infile.endswith(\".txt\")):\n",
    "        continue\n",
    "    review_file = open(infile,'r').read()\n",
    "    subKey = infile.split(\"/\")[-1]\n",
    "    mainKey = subKey.split(\"_\")[0]\n",
    "    names.append(subKey)\n",
    "    texts.append(review_file)"
   ]
  },
  {
   "cell_type": "code",
   "execution_count": 2,
   "id": "5005afb7",
   "metadata": {},
   "outputs": [
    {
     "name": "stderr",
     "output_type": "stream",
     "text": [
      "[nltk_data] Downloading package wordnet to\n",
      "[nltk_data]     /Users/benjaminpfeffer/nltk_data...\n",
      "[nltk_data]   Package wordnet is already up-to-date!\n",
      "[nltk_data] Downloading package omw-1.4 to\n",
      "[nltk_data]     /Users/benjaminpfeffer/nltk_data...\n",
      "[nltk_data]   Package omw-1.4 is already up-to-date!\n"
     ]
    }
   ],
   "source": [
    "import nltk\n",
    "from nltk.tokenize import word_tokenize\n",
    "from nltk.stem import WordNetLemmatizer\n",
    "nltk.download(\"wordnet\")\n",
    "nltk.download(\"omw-1.4\")\n",
    "from num2words import num2words\n",
    "from sklearn.feature_extraction.text import TfidfVectorizer"
   ]
  },
  {
   "cell_type": "code",
   "execution_count": 3,
   "id": "5a6bfebf",
   "metadata": {},
   "outputs": [],
   "source": [
    "from sklearn.cluster import KMeans\n",
    "import pandas as pd\n",
    "import collections"
   ]
  },
  {
   "cell_type": "code",
   "execution_count": 4,
   "id": "473c7058",
   "metadata": {},
   "outputs": [],
   "source": [
    "# Get English stopwords\n",
    "stopwords = nltk.corpus.stopwords.words('english')\n",
    "\n",
    "# Process data and make list of list of words\n",
    "textFull = []\n",
    "for text in texts:\n",
    "    currText = text.lower()\n",
    "    tokens = word_tokenize(currText)\n",
    "    \n",
    "    # Remove stopwords\n",
    "    no_stop = [w for w in tokens if w not in stopwords]\n",
    "    \n",
    "    # Remove punctuation\n",
    "    no_punct = [w for w in no_stop if w.isalnum()]\n",
    "    \n",
    "    # Remove single characters\n",
    "    no_single = [w for w in no_punct if len(w)>1]\n",
    "    \n",
    "    # Lemmatize (stemming, but more meaningful and more computationally expensive)\n",
    "    # Initialize wordnet lemmatizer\n",
    "    wnl = WordNetLemmatizer()\n",
    "\n",
    "    # Perform lemmatization\n",
    "    lemmatized = [wnl.lemmatize(w, pos=\"v\") for w in no_single]\n",
    "    \n",
    "    # Append to list of list of words\n",
    "    textFull.append(lemmatized)"
   ]
  },
  {
   "cell_type": "code",
   "execution_count": 5,
   "id": "0f30c1c7",
   "metadata": {},
   "outputs": [],
   "source": [
    "# Make list of all documents for use in tf-idf matrix\n",
    "textListFull = []\n",
    "for textList in textFull:\n",
    "    textListFull.append(\" \".join(textList))"
   ]
  },
  {
   "cell_type": "code",
   "execution_count": 6,
   "id": "ce0be634",
   "metadata": {},
   "outputs": [
    {
     "name": "stdout",
     "output_type": "stream",
     "text": [
      "(111, 1867)\n"
     ]
    }
   ],
   "source": [
    "# Create TfidfVectorizer object\n",
    "vectorizer = TfidfVectorizer()\n",
    "\n",
    "# Generate matrix of word vectors\n",
    "tfidf_matrix = vectorizer.fit_transform(textListFull)\n",
    "\n",
    "# Get the shape, matches 111 documents given as data\n",
    "print(tfidf_matrix.shape)"
   ]
  },
  {
   "cell_type": "code",
   "execution_count": 7,
   "id": "dbcd05f8",
   "metadata": {},
   "outputs": [
    {
     "name": "stderr",
     "output_type": "stream",
     "text": [
      "/Users/benjaminpfeffer/no/envs/mlp/lib/python3.8/site-packages/sklearn/utils/deprecation.py:87: FutureWarning: Function get_feature_names is deprecated; get_feature_names is deprecated in 1.0 and will be removed in 1.2. Please use get_feature_names_out instead.\n",
      "  warnings.warn(msg, category=FutureWarning)\n"
     ]
    }
   ],
   "source": [
    "# Store the features for insight later\n",
    "features = vectorizer.get_feature_names()"
   ]
  },
  {
   "cell_type": "code",
   "execution_count": 8,
   "id": "b26220b9",
   "metadata": {
    "scrolled": true
   },
   "outputs": [
    {
     "data": {
      "image/png": "[encoded data removed]",
      "text/plain": [
       "<Figure size 640x480 with 1 Axes>"
      ]
     },
     "metadata": {},
     "output_type": "display_data"
    }
   ],
   "source": [
    "import matplotlib.pyplot as plt\n",
    "# Perform the elbow method: 2 seems best, but for our visualization purposes let's use the next best: 4 clusters\n",
    "Sum_of_squared_distances = []\n",
    "K = range(1,8)\n",
    "for num_clusters in K :\n",
    "    kmeans = KMeans(n_clusters=num_clusters, random_state=1) # 349\n",
    "    kmeans.fit(tfidf_matrix)\n",
    "    Sum_of_squared_distances.append(kmeans.inertia_)\n",
    "plt.plot(K,Sum_of_squared_distances,'bx-')\n",
    "\n",
    "plt.show()"
   ]
  },
  {
   "cell_type": "code",
   "execution_count": 9,
   "id": "ab442932",
   "metadata": {
    "scrolled": true
   },
   "outputs": [
    {
     "data": {
      "text/html": [
       "<style>#sk-container-id-1 {color: black;background-color: white;}#sk-container-id-1 pre{padding: 0;}#sk-container-id-1 div.sk-toggleable {background-color: white;}#sk-container-id-1 label.sk-toggleable__label {cursor: pointer;display: block;width: 100%;margin-bottom: 0;padding: 0.3em;box-sizing: border-box;text-align: center;}#sk-container-id-1 label.sk-toggleable__label-arrow:before {content: \"▸\";float: left;margin-right: 0.25em;color: #696969;}#sk-container-id-1 label.sk-toggleable__label-arrow:hover:before {color: black;}#sk-container-id-1 div.sk-estimator:hover label.sk-toggleable__label-arrow:before {color: black;}#sk-container-id-1 div.sk-toggleable__content {max-height: 0;max-width: 0;overflow: hidden;text-align: left;background-color: #f0f8ff;}#sk-container-id-1 div.sk-toggleable__content pre {margin: 0.2em;color: black;border-radius: 0.25em;background-color: #f0f8ff;}#sk-container-id-1 input.sk-toggleable__control:checked~div.sk-toggleable__content {max-height: 200px;max-width: 100%;overflow: auto;}#sk-container-id-1 input.sk-toggleable__control:checked~label.sk-toggleable__label-arrow:before {content: \"▾\";}#sk-container-id-1 div.sk-estimator input.sk-toggleable__control:checked~label.sk-toggleable__label {background-color: #d4ebff;}#sk-container-id-1 div.sk-label input.sk-toggleable__control:checked~label.sk-toggleable__label {background-color: #d4ebff;}#sk-container-id-1 input.sk-hidden--visually {border: 0;clip: rect(1px 1px 1px 1px);clip: rect(1px, 1px, 1px, 1px);height: 1px;margin: -1px;overflow: hidden;padding: 0;position: absolute;width: 1px;}#sk-container-id-1 div.sk-estimator {font-family: monospace;background-color: #f0f8ff;border: 1px dotted black;border-radius: 0.25em;box-sizing: border-box;margin-bottom: 0.5em;}#sk-container-id-1 div.sk-estimator:hover {background-color: #d4ebff;}#sk-container-id-1 div.sk-parallel-item::after {content: \"\";width: 100%;border-bottom: 1px solid gray;flex-grow: 1;}#sk-container-id-1 div.sk-label:hover label.sk-toggleable__label {background-color: #d4ebff;}#sk-container-id-1 div.sk-serial::before {content: \"\";position: absolute;border-left: 1px solid gray;box-sizing: border-box;top: 0;bottom: 0;left: 50%;z-index: 0;}#sk-container-id-1 div.sk-serial {display: flex;flex-direction: column;align-items: center;background-color: white;padding-right: 0.2em;padding-left: 0.2em;position: relative;}#sk-container-id-1 div.sk-item {position: relative;z-index: 1;}#sk-container-id-1 div.sk-parallel {display: flex;align-items: stretch;justify-content: center;background-color: white;position: relative;}#sk-container-id-1 div.sk-item::before, #sk-container-id-1 div.sk-parallel-item::before {content: \"\";position: absolute;border-left: 1px solid gray;box-sizing: border-box;top: 0;bottom: 0;left: 50%;z-index: -1;}#sk-container-id-1 div.sk-parallel-item {display: flex;flex-direction: column;z-index: 1;position: relative;background-color: white;}#sk-container-id-1 div.sk-parallel-item:first-child::after {align-self: flex-end;width: 50%;}#sk-container-id-1 div.sk-parallel-item:last-child::after {align-self: flex-start;width: 50%;}#sk-container-id-1 div.sk-parallel-item:only-child::after {width: 0;}#sk-container-id-1 div.sk-dashed-wrapped {border: 1px dashed gray;margin: 0 0.4em 0.5em 0.4em;box-sizing: border-box;padding-bottom: 0.4em;background-color: white;}#sk-container-id-1 div.sk-label label {font-family: monospace;font-weight: bold;display: inline-block;line-height: 1.2em;}#sk-container-id-1 div.sk-label-container {text-align: center;}#sk-container-id-1 div.sk-container {/* jupyter's `normalize.less` sets `[hidden] { display: none; }` but bootstrap.min.css set `[hidden] { display: none !important; }` so we also need the `!important` here to be able to override the default hidden behavior on the sphinx rendered scikit-learn.org. See: https://github.com/scikit-learn/scikit-learn/issues/21755 */display: inline-block !important;position: relative;}#sk-container-id-1 div.sk-text-repr-fallback {display: none;}</style><div id=\"sk-container-id-1\" class=\"sk-top-container\"><div class=\"sk-text-repr-fallback\"><pre>SilhouetteVisualizer(ax=&lt;AxesSubplot: &gt;, colors=&#x27;yellowbrick&#x27;,\n",
       "                     estimator=KMeans(n_clusters=4))</pre><b>In a Jupyter environment, please rerun this cell to show the HTML representation or trust the notebook. <br />On GitHub, the HTML representation is unable to render, please try loading this page with nbviewer.org.</b></div><div class=\"sk-container\" hidden><div class=\"sk-item sk-dashed-wrapped\"><div class=\"sk-label-container\"><div class=\"sk-label sk-toggleable\"><input class=\"sk-toggleable__control sk-hidden--visually\" id=\"sk-estimator-id-1\" type=\"checkbox\" ><label for=\"sk-estimator-id-1\" class=\"sk-toggleable__label sk-toggleable__label-arrow\">SilhouetteVisualizer</label><div class=\"sk-toggleable__content\"><pre>SilhouetteVisualizer(ax=&lt;AxesSubplot: &gt;, colors=&#x27;yellowbrick&#x27;,\n",
       "                     estimator=KMeans(n_clusters=4))</pre></div></div></div><div class=\"sk-parallel\"><div class=\"sk-parallel-item\"><div class=\"sk-item\"><div class=\"sk-label-container\"><div class=\"sk-label sk-toggleable\"><input class=\"sk-toggleable__control sk-hidden--visually\" id=\"sk-estimator-id-2\" type=\"checkbox\" ><label for=\"sk-estimator-id-2\" class=\"sk-toggleable__label sk-toggleable__label-arrow\">estimator: KMeans</label><div class=\"sk-toggleable__content\"><pre>KMeans(n_clusters=4)</pre></div></div></div><div class=\"sk-serial\"><div class=\"sk-item\"><div class=\"sk-estimator sk-toggleable\"><input class=\"sk-toggleable__control sk-hidden--visually\" id=\"sk-estimator-id-3\" type=\"checkbox\" ><label for=\"sk-estimator-id-3\" class=\"sk-toggleable__label sk-toggleable__label-arrow\">KMeans</label><div class=\"sk-toggleable__content\"><pre>KMeans(n_clusters=4)</pre></div></div></div></div></div></div></div></div></div></div>"
      ],
      "text/plain": [
       "SilhouetteVisualizer(ax=<AxesSubplot: >, colors='yellowbrick',\n",
       "                     estimator=KMeans(n_clusters=4))"
      ]
     },
     "execution_count": 9,
     "metadata": {},
     "output_type": "execute_result"
    },
    {
     "data": {
      "image/png": "[encoded data removed]",
      "text/plain": [
       "<Figure size 800x550 with 1 Axes>"
      ]
     },
     "metadata": {},
     "output_type": "display_data"
    }
   ],
   "source": [
    "from sklearn.cluster import KMeans\n",
    "import matplotlib.pyplot as plt\n",
    "from yellowbrick.cluster import SilhouetteVisualizer\n",
    "  \n",
    "\n",
    "km = KMeans(n_clusters=4)\n",
    "visualizer = SilhouetteVisualizer(km, colors='yellowbrick')\n",
    "visualizer.fit(tfidf_matrix) "
   ]
  },
  {
   "cell_type": "code",
   "execution_count": 10,
   "id": "c1833f8c",
   "metadata": {},
   "outputs": [],
   "source": [
    "# Cluster the tf-idf matrix with the decided 4 clusters\n",
    "num_clusters = 4\n",
    "km = KMeans(n_clusters=num_clusters, random_state=1)\n",
    "km.fit(tfidf_matrix)\n",
    "clusters = km.labels_.tolist()"
   ]
  },
  {
   "cell_type": "code",
   "execution_count": 11,
   "id": "98f40bc3",
   "metadata": {},
   "outputs": [],
   "source": [
    "# Store the clusters as a dataframe\n",
    "clusterDf = pd.DataFrame()\n",
    "clusterDf[\"File\"] = names\n",
    "clusterDf[\"Text\"] = texts\n",
    "clusterDf[\"Cluster\"] = clusters"
   ]
  },
  {
   "cell_type": "code",
   "execution_count": 12,
   "id": "aadf550a",
   "metadata": {},
   "outputs": [],
   "source": [
    "import re\n",
    "# Create a function to tokenize by sentence and word, and limit results to alphanumeric tokens\n",
    "def tokenize(text):\n",
    "    # Tokenize by sentence and word\n",
    "    word_tokens = [word.lower() for sentence in nltk.sent_tokenize(text) for word in nltk.word_tokenize(sentence)]\n",
    "    final = []\n",
    "    for val in word_tokens:\n",
    "        # Remove words based on regex\n",
    "        if re.search('[a-zA-Z0-9]', val):\n",
    "            final.append(val)\n",
    "    return final"
   ]
  },
  {
   "cell_type": "code",
   "execution_count": 13,
   "id": "6baae200",
   "metadata": {},
   "outputs": [],
   "source": [
    "# Get a list -> dataframe of all words used for reference in insight\n",
    "total_words = []\n",
    "for i in textListFull:\n",
    "    words = tokenize(i)\n",
    "    total_words.extend(words)\n",
    "words = pd.DataFrame({'words': total_words}, index = total_words)"
   ]
  },
  {
   "cell_type": "code",
   "execution_count": 14,
   "id": "5e678f0d",
   "metadata": {},
   "outputs": [
    {
     "name": "stdout",
     "output_type": "stream",
     "text": [
      "Top terms per cluster:\n",
      "\n",
      "Cluster 0 words:\n",
      "al, name, 2003, say, texas, know, london, shamrani, qaeda, identify, \n",
      "\n",
      "Cluster 0 titles:\n",
      "CIA_08, CIA_37, CIA_06, FBI_10, FBI_28, FBI_17, FBI_21, FBI_19, USCBP_02, CIA_07, FBI_11, NSA_02, FBI_02, CIA_40, FBI_05, CIA_14, FBI_04, FBI_03, FBI_35, FBI_32, CIA_15, CIA_12, FBI_13, FBI_25, FBI_22, CIA_02, FBI_23, FBI_12, FBI_15, CIA_32, NSA_01, DIA_02, CIA_10, CIA_19, FBI_37, FBI_06, FBI_01, CIA_20, CIA_11, FBI_07, FBI_38, FBI_09, \n",
      "\n",
      "Cluster 1 words:\n",
      "source, hanif, nassau, december, men, 2004, cairo, say, safrygin, package, \n",
      "\n",
      "Cluster 1 titles:\n",
      "CIA_01, CIA_39, CIA_38, CIA_09, CIA_36, CIA_31, FBI_29, FBI_16, FBI_33, CIA_13, CIA_41, CIA_24, CIA_34, CIA_05, FBI_40, FBI_24, FBI_41, USCBP_01, CIA_04, CIA_35, NSA_06, CIA_28, CIA_26, FBI_39, CIA_43, CIA_29, CIA_42, \n",
      "\n",
      "Cluster 2 words:\n",
      "call, phone, caller, say, intercept, receiver, location, chitral, tampico, bogota, \n",
      "\n",
      "Cluster 2 titles:\n",
      "NSA_20, NSA_18, NSA_11, NSA_16, NSA_17, NSA_10, NSA_19, NSA_21, NSA_03, NSA_05, NSA_15, NSA_12, NSA_13, NSA_14, NSA_22, NSA_07, NSA_09, NSA_08, \n",
      "\n",
      "Cluster 3 words:\n",
      "report, derwish, detroit, october, nami, abdul, work, windsor, arze, information, \n",
      "\n",
      "Cluster 3 titles:\n",
      "CIA_30, FBI_26, FBI_18, FBI_27, FBI_20, NSA_04, FBI_34, DIA_01, CIA_22, CIA_25, CIA_23, FBI_14, CIA_33, CIA_03, CIA_17, CIA_21, FBI_08, FBI_30, CIA_27, CIA_18, DIA_03, CIA_16, FBI_31, FBI_36, \n",
      "\n"
     ]
    }
   ],
   "source": [
    "# Display the top terms per cluster and the titles of the documents in each cluster\n",
    "print(\"Top terms per cluster:\")\n",
    "print()\n",
    "# Sort cluster centers by proximity to centroid\n",
    "ordered_centroids = km.cluster_centers_.argsort()[:, ::-1] \n",
    "\n",
    "for i in range(num_clusters):\n",
    "    print(\"Cluster\", i, \"words:\")\n",
    "    \n",
    "    for idx in ordered_centroids[i, :10]: # Best 10 words per cluster\n",
    "        print(words.loc[features[idx].split(' ')].values.tolist()[0][0], end=\", \")\n",
    "    print()\n",
    "    print()\n",
    "    \n",
    "    print(\"Cluster\", i, \"titles:\")\n",
    "    for title in clusterDf.set_index(\"Cluster\").loc[i]['File'].values.tolist():\n",
    "        print(title, end=\", \")\n",
    "    print()\n",
    "    print()"
   ]
  },
  {
   "cell_type": "code",
   "execution_count": 15,
   "id": "8f1fbcd0",
   "metadata": {},
   "outputs": [],
   "source": [
    "# Labels: threats, source information, communications, reports"
   ]
  },
  {
   "cell_type": "code",
   "execution_count": 16,
   "id": "1e426ab6",
   "metadata": {},
   "outputs": [],
   "source": [
    "# Convert from cluster dataframe to dictionary\n",
    "clustDict = {}\n",
    "for i in range(len(clusterDf)):\n",
    "    cNum = str(clusterDf.iloc[i].Cluster)\n",
    "    doc = clusterDf.iloc[i].File\n",
    "    text = clusterDf.iloc[i].Text\n",
    "    try:\n",
    "        clustDict[cNum][doc] = text\n",
    "    except:\n",
    "        clustDict[cNum] = {}\n",
    "        clustDict[cNum][doc] = text\n",
    "clustDict = dict(collections.OrderedDict(sorted(clustDict.items())))"
   ]
  },
  {
   "cell_type": "code",
   "execution_count": 17,
   "id": "ecb2cffc",
   "metadata": {},
   "outputs": [],
   "source": [
    "# Export dictionary to json file\n",
    "with open('Project2Data.json', 'w') as fp:\n",
    "    json.dump(clustDict, fp)"
   ]
  }
 ],
 "metadata": {
  "kernelspec": {
   "display_name": "Python 3 (ipykernel)",
   "language": "python",
   "name": "python3"
  },
  "language_info": {
   "codemirror_mode": {
    "name": "ipython",
    "version": 3
   },
   "file_extension": ".py",
   "mimetype": "text/x-python",
   "name": "python",
   "nbconvert_exporter": "python",
   "pygments_lexer": "ipython3",
   "version": "3.8.13"
  }
 },
 "nbformat": 4,
 "nbformat_minor": 5
}
